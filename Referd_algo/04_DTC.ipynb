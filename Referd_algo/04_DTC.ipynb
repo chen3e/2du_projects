{
 "cells": [
  {
   "cell_type": "code",
   "execution_count": 3,
   "id": "49d0833b",
   "metadata": {},
   "outputs": [],
   "source": [
    "# import os\n",
    "# import matplotlib.pyplot as plt\n",
    "# os.environ.setdefault(\"DJANGO_SETTINGS_MODULE\", \"resume_scanner.settings\")\n",
    "# os.environ[\"DJANGO_ALLOW_ASYNC_UNSAFE\"] = \"true\"\n",
    "    \n",
    "# import django\n",
    "# django.setup()\n",
    "\n",
    "# from django.core.management import call_command\n",
    "import functools\n",
    "import json\n",
    "from nltk.corpus import stopwords\n",
    "import pandas as pd\n",
    "import pickle\n",
    "import re\n",
    "import seaborn as sns\n",
    "from sklearn.decomposition import PCA\n",
    "from sklearn.ensemble import RandomForestClassifier\n",
    "from sklearn.metrics import accuracy_score, precision_score, recall_score\n",
    "from sklearn.model_selection import train_test_split, GridSearchCV\n",
    "from sklearn.tree import DecisionTreeClassifier"
   ]
  },
  {
   "cell_type": "code",
   "execution_count": 4,
   "id": "577ffc68",
   "metadata": {},
   "outputs": [],
   "source": [
    "# unified is segregated scan/swipe vectorizers with job/applicant columns merged into one feature\n",
    "unified = pd.read_pickle('unified_col_seg.pkl')\n",
    "# separate is segregated scan/swipe vectorizers with job/applicant columns separate\n",
    "separate = pd.read_pickle('seg_scan_swipe.pkl')\n",
    "# combined is unsegregated scan/swipe vectorizers with job/applicant columns separate\n",
    "combined_df = pd.read_pickle('combined.pkl')\n",
    "# combined_unified is unsegregated scan/swipe vectorizers with job/applicant columns merged into one feature\n",
    "combined_unified_df = pd.read_pickle('unified_combined.pkl')\n",
    "# combined_df['like'] = combined_df['like'].map({True: 1, False: 0})"
   ]
  },
  {
   "cell_type": "code",
   "execution_count": 4,
   "id": "ca269bb1",
   "metadata": {
    "scrolled": true
   },
   "outputs": [
    {
     "name": "stdout",
     "output_type": "stream",
     "text": [
      "0\n",
      "1\n",
      "2\n",
      "3\n",
      "4\n"
     ]
    }
   ],
   "source": [
    "accuracies = []\n",
    "precisions = []\n",
    "recalls = []\n",
    "predict_rights = []\n",
    "best_models = []\n",
    "\n",
    "for j in range(5):\n",
    "    print(j)\n",
    "    for i in [unified, separate, combined_df, combined_unified_df]:\n",
    "        df = i\n",
    "        ## Only train on data that has outcome variables\n",
    "        df_like_data = df[~df.like.isna()]\n",
    "\n",
    "        X_train, X_test, y_train, y_test = train_test_split(\n",
    "            df_like_data.drop(columns=['like']), df_like_data.like, test_size=0.3\n",
    "        )\n",
    "\n",
    "        rf_param_grid = {\n",
    "            'max_depth': [6, 8, 10, 12, 15],\n",
    "            'max_features': [0.25, 0.5, 0.75, None],\n",
    "            'n_estimators': [50, 75, 100]\n",
    "        }\n",
    "\n",
    "        gscv = GridSearchCV(RandomForestClassifier(), rf_param_grid, cv=5)\n",
    "        gscv.fit(X_train, y_train)\n",
    "        best_rf = gscv.best_estimator_\n",
    "\n",
    "        X_train, X_test, y_train, y_test = train_test_split(\n",
    "            df_like_data.drop(columns=['like']), df_like_data.like, test_size=0.3\n",
    "        )\n",
    "\n",
    "        train_rf_pred = best_rf.predict(X_train)\n",
    "        test_rf_pred = best_rf.predict(X_test)\n",
    "\n",
    "        ## Identify data without outcome variables\n",
    "        df_no_like_data = df[df.like.isna()]\n",
    "\n",
    "        ## Build lists containing results\n",
    "        if i is unified:\n",
    "            accuracies.append(\n",
    "                {\n",
    "                    'train': [np.round(accuracy_score(y_train, train_rf_pred), 3)],\n",
    "                    'test': [np.round(accuracy_score(y_test, test_rf_pred), 3)]\n",
    "                }\n",
    "            )\n",
    "            precisions.append(\n",
    "                {\n",
    "                    'train': [np.round(precision_score(y_train, train_rf_pred), 3)],\n",
    "                    'test': [np.round(precision_score(y_test, test_rf_pred), 3)]\n",
    "                }\n",
    "            )\n",
    "            recalls.append(\n",
    "                {\n",
    "                    'train': [np.round(recall_score(y_train, train_rf_pred), 3)],\n",
    "                    'test': [np.round(recall_score(y_test, test_rf_pred), 3)]\n",
    "                }\n",
    "            )\n",
    "            predict_rights.append([\n",
    "                np.round((len(list(filter(\n",
    "                    lambda i: i, best_rf.predict(df_no_like_data.drop(columns=['like']))\n",
    "                )))/df_no_like_data.shape[0]), 3)\n",
    "            ])\n",
    "            best_models.append([best_rf])\n",
    "        else:\n",
    "            accuracies[-1]['train'].append(np.round(accuracy_score(y_train, train_rf_pred), 3))\n",
    "            accuracies[-1]['test'].append(np.round(accuracy_score(y_test, test_rf_pred), 3))\n",
    "            precisions[-1]['train'].append(np.round(precision_score(y_train, train_rf_pred), 3))\n",
    "            precisions[-1]['test'].append(np.round(precision_score(y_test, test_rf_pred), 3))\n",
    "            recalls[-1]['train'].append(np.round(recall_score(y_train, train_rf_pred), 3))\n",
    "            recalls[-1]['test'].append(np.round(recall_score(y_test, test_rf_pred), 3))\n",
    "            predict_rights[-1].append(np.round((len(list(filter(\n",
    "                lambda i: i, best_rf.predict(df_no_like_data.drop(columns=['like']))\n",
    "            )))/df_no_like_data.shape[0]), 3))\n",
    "            best_models[-1].append(best_rf)"
   ]
  },
  {
   "cell_type": "code",
   "execution_count": 5,
   "id": "d55507b1",
   "metadata": {},
   "outputs": [
    {
     "name": "stdout",
     "output_type": "stream",
     "text": [
      "#######ACCURACY#######\n",
      "{'train': [0.766, 0.825, 0.803, 0.78], 'test': [0.782, 0.785, 0.77, 0.792]}\n",
      "{'train': [0.73, 0.78, 0.778, 0.769], 'test': [0.704, 0.758, 0.812, 0.78]}\n",
      "{'train': [0.728, 0.751, 0.807, 0.81], 'test': [0.76, 0.773, 0.809, 0.829]}\n",
      "{'train': [0.714, 0.756, 0.757, 0.73], 'test': [0.731, 0.792, 0.787, 0.731]}\n",
      "{'train': [0.706, 0.792, 0.804, 0.749], 'test': [0.743, 0.804, 0.807, 0.756]}\n",
      "#######PRECISION#######\n",
      "{'train': [0.815, 0.884, 0.816, 0.862], 'test': [0.881, 0.744, 0.789, 0.778]}\n",
      "{'train': [0.852, 0.817, 0.829, 0.819], 'test': [0.805, 0.76, 0.888, 0.792]}\n",
      "{'train': [0.823, 0.758, 0.832, 0.811], 'test': [0.927, 0.727, 0.785, 0.833]}\n",
      "{'train': [0.848, 0.768, 0.787, 0.76], 'test': [0.711, 0.795, 0.841, 0.78]}\n",
      "{'train': [0.802, 0.791, 0.837, 0.844], 'test': [0.816, 0.823, 0.909, 0.811]}\n",
      "#######RECALL#######\n",
      "{'train': [0.406, 0.574, 0.53, 0.448], 'test': [0.421, 0.508, 0.486, 0.485]}\n",
      "{'train': [0.235, 0.465, 0.445, 0.435], 'test': [0.226, 0.413, 0.511, 0.432]}\n",
      "{'train': [0.28, 0.436, 0.546, 0.564], 'test': [0.286, 0.438, 0.604, 0.651]}\n",
      "{'train': [0.232, 0.437, 0.414, 0.295], 'test': [0.248, 0.473, 0.433, 0.322]}\n",
      "{'train': [0.198, 0.526, 0.523, 0.343], 'test': [0.294, 0.556, 0.493, 0.323]}\n",
      "#######PREDICTED PROPORTIONS#######\n",
      "[0.052, 0.008, 0.03, 0.058]\n",
      "[0.01, 0.005, 0.026, 0.065]\n",
      "[0.07, 0.007, 0.011, 0.101]\n",
      "[0.018, 0.016, 0.001, 0.109]\n",
      "[0.012, 0.029, 0.004, 0.075]\n",
      "#######MODELS#######\n",
      "[RandomForestClassifier(max_depth=8, max_features=0.25, n_estimators=75), RandomForestClassifier(max_depth=10, max_features=0.75, n_estimators=50), RandomForestClassifier(max_depth=8, max_features=None, n_estimators=50), RandomForestClassifier(max_depth=8, max_features=0.5, n_estimators=75)]\n",
      "[RandomForestClassifier(max_depth=6, max_features=0.25, n_estimators=75), RandomForestClassifier(max_depth=6, max_features=0.75, n_estimators=50), RandomForestClassifier(max_depth=8, max_features=None, n_estimators=75), RandomForestClassifier(max_depth=8, max_features=0.25, n_estimators=50)]\n",
      "[RandomForestClassifier(max_depth=6, max_features=0.5, n_estimators=50), RandomForestClassifier(max_depth=6, max_features=0.5), RandomForestClassifier(max_depth=10, max_features=0.5, n_estimators=75), RandomForestClassifier(max_depth=12, max_features=0.25, n_estimators=75)]\n",
      "[RandomForestClassifier(max_depth=6, max_features=0.25), RandomForestClassifier(max_depth=6, max_features=0.75, n_estimators=75), RandomForestClassifier(max_depth=8, max_features=0.25), RandomForestClassifier(max_depth=6, max_features=0.5, n_estimators=75)]\n",
      "[RandomForestClassifier(max_depth=6, max_features=0.25, n_estimators=50), RandomForestClassifier(max_depth=8, max_features=None), RandomForestClassifier(max_depth=8, max_features=None), RandomForestClassifier(max_depth=8, max_features=0.25, n_estimators=50)]\n"
     ]
    }
   ],
   "source": [
    "print('#######ACCURACY#######')\n",
    "for i in accuracies:\n",
    "    print(i)\n",
    "print('#######PRECISION#######')\n",
    "for i in precisions:\n",
    "    print(i)\n",
    "print('#######RECALL#######')\n",
    "for i in recalls:\n",
    "    print(i)\n",
    "print('#######PREDICTED PROPORTIONS#######')\n",
    "for i in predict_rights:\n",
    "    print(i)\n",
    "print('#######MODELS#######')\n",
    "for i in best_models:\n",
    "    print(i)"
   ]
  },
  {
   "cell_type": "code",
   "execution_count": 6,
   "id": "b0695838",
   "metadata": {},
   "outputs": [
    {
     "data": {
      "text/plain": [
       "RandomForestClassifier(max_depth=12, max_features=0.25, n_estimators=75)"
      ]
     },
     "execution_count": 6,
     "metadata": {},
     "output_type": "execute_result"
    }
   ],
   "source": [
    "## After inspection, find and save our best model!\n",
    "best_rf_replace_10 = best_models[2][3]\n",
    "print(best_rf_replace_10)\n",
    "pickle.dump(best_rf_replace_10, open('best_rf', 'wb'))"
   ]
  },
  {
   "cell_type": "code",
   "execution_count": 57,
   "id": "c8572ab4",
   "metadata": {},
   "outputs": [],
   "source": [
    "## Flatten accuracy/precision/recall lists to visualize them below\n",
    "test_acc = functools.reduce(lambda a, b: a + b, [i['test'] for i in accuracies])\n",
    "test_prec = functools.reduce(lambda a, b: a + b, [i['test'] for i in precisions])\n",
    "test_rec = functools.reduce(lambda a, b: a + b, [i['test'] for i in recalls])"
   ]
  },
  {
   "cell_type": "code",
   "execution_count": 58,
   "id": "dab373c2",
   "metadata": {},
   "outputs": [
    {
     "data": {
      "image/png": "[encoded data removed]",
      "text/plain": [
       "<Figure size 1152x288 with 3 Axes>"
      ]
     },
     "metadata": {
      "needs_background": "light"
     },
     "output_type": "display_data"
    }
   ],
   "source": [
    "fig, axs = plt.subplots(1, 3, figsize=(16, 4))\n",
    "x_range = range(20)\n",
    "axs[0].bar(x_range, test_acc)\n",
    "axs[0].set_title('Test accuracies')\n",
    "axs[1].bar(x_range, test_prec)\n",
    "axs[1].set_title('Test precisions')\n",
    "axs[2].bar(x_range, test_rec)\n",
    "axs[2].set_title('Test recalls')\n",
    "plt.show()"
   ]
  }
 ],
 "metadata": {
  "kernelspec": {
   "display_name": "Python 3 (ipykernel)",
   "language": "python",
   "name": "python3"
  },
  "language_info": {
   "codemirror_mode": {
    "name": "ipython",
    "version": 3
   },
   "file_extension": ".py",
   "mimetype": "text/x-python",
   "name": "python",
   "nbconvert_exporter": "python",
   "pygments_lexer": "ipython3",
   "version": "3.8.10"
  }
 },
 "nbformat": 4,
 "nbformat_minor": 5
}
